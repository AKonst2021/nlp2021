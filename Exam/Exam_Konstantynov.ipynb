{
  "nbformat": 4,
  "nbformat_minor": 0,
  "metadata": {
    "colab": {
      "name": "Exam_Konstantynov.ipynb",
      "provenance": [],
      "toc_visible": true,
      "include_colab_link": true
    },
    "kernelspec": {
      "name": "python3",
      "display_name": "Python 3"
    },
    "language_info": {
      "name": "python"
    },
    "accelerator": "GPU"
  },
  "cells": [
    {
      "cell_type": "markdown",
      "metadata": {
        "id": "view-in-github",
        "colab_type": "text"
      },
      "source": [
        "<a href=\"https://colab.research.google.com/github/AKonst2021/nlp2021/blob/main/Exam/Exam_Konstantynov.ipynb\" target=\"_parent\"><img src=\"https://colab.research.google.com/assets/colab-badge.svg\" alt=\"Open In Colab\"/></a>"
      ]
    },
    {
      "cell_type": "markdown",
      "source": [
        "Практичне завдання\n",
        "\n",
        "з дисципліни \"Методи обробки природномовної інформації\"\n",
        "\n",
        "студента групи ТШІ-21\n",
        "\n",
        "Константинова Артема Віталійовича\n",
        "\n",
        "Варіант Х"
      ],
      "metadata": {
        "id": "uLJeFc8GS4xI"
      }
    },
    {
      "cell_type": "markdown",
      "source": [
        ""
      ],
      "metadata": {
        "id": "KwdNOSMacTa7"
      }
    },
    {
      "cell_type": "markdown",
      "source": [
        "Завдання:\n",
        "\n",
        "Розробити Jupyter Notebook для вирішення завдання класифікації тексту\n",
        "на основі набору даних:\n",
        "[link]"
      ],
      "metadata": {
        "id": "kcMsqNxcTu2-"
      }
    },
    {
      "cell_type": "code",
      "source": [
        "import numpy as np\n",
        "import pandas as pd\n",
        "import tensorflow as tf, requests as rqst, io\n",
        "from tensorflow.keras.layers.experimental.preprocessing import TextVectorization\n",
        "from tensorflow.keras import layers\n",
        "\n",
        "rnd = np.random.randint"
      ],
      "metadata": {
        "id": "1vCQ1ViaWLD1"
      },
      "execution_count": null,
      "outputs": []
    },
    {
      "cell_type": "markdown",
      "source": [
        "Етап 1. Завантаження та попередній аналіз даних."
      ],
      "metadata": {
        "id": "P-w5TBf4T1P_"
      }
    },
    {
      "cell_type": "code",
      "source": [
        "#create the grouped dataset based on the data from each participant"
      ],
      "metadata": {
        "id": "MbQ3K2H8T_1_"
      },
      "execution_count": null,
      "outputs": []
    },
    {
      "cell_type": "code",
      "source": [
        "!wget https://drive.google.com/drive/folders/1ygGIhh9mE06DK-RLJK6ai3uOVS0JLMSJ?usp=sharing"
      ],
      "metadata": {
        "colab": {
          "base_uri": "https://localhost:8080/"
        },
        "id": "xiBmjEb1Yibv",
        "outputId": "f6fea500-3c9f-4575-f772-556cff650feb"
      },
      "execution_count": null,
      "outputs": [
        {
          "output_type": "stream",
          "name": "stdout",
          "text": [
            "--2021-12-12 20:43:03--  https://drive.google.com/drive/folders/1ygGIhh9mE06DK-RLJK6ai3uOVS0JLMSJ?usp=sharing\n",
            "Resolving drive.google.com (drive.google.com)... 142.250.159.138, 142.250.159.100, 142.250.159.139, ...\n",
            "Connecting to drive.google.com (drive.google.com)|142.250.159.138|:443... connected.\n",
            "HTTP request sent, awaiting response... 200 OK\n",
            "Length: unspecified [text/html]\n",
            "Saving to: ‘1ygGIhh9mE06DK-RLJK6ai3uOVS0JLMSJ?usp=sharing’\n",
            "\n",
            "1ygGIhh9mE06DK-RLJK     [ <=>                ] 215.29K  1.19MB/s    in 0.2s    \n",
            "\n",
            "2021-12-12 20:43:04 (1.19 MB/s) - ‘1ygGIhh9mE06DK-RLJK6ai3uOVS0JLMSJ?usp=sharing’ saved [220452]\n",
            "\n"
          ]
        }
      ]
    },
    {
      "cell_type": "code",
      "source": [
        "from google.colab import drive\n",
        "drive.mount('/content/drive')"
      ],
      "metadata": {
        "id": "5wUnT1YjY55t",
        "colab": {
          "base_uri": "https://localhost:8080/"
        },
        "outputId": "1499a7a1-f318-4c51-9d64-9a9a9e48640a"
      },
      "execution_count": 8,
      "outputs": [
        {
          "output_type": "stream",
          "name": "stdout",
          "text": [
            "Mounted at /content/drive\n"
          ]
        }
      ]
    },
    {
      "cell_type": "code",
      "source": [
        "artem_file = open(\"/content/drive/MyDrive/NLP/dataartem.txt\")\n",
        "artem_sentences = artem_file.read().split('.')[:-1]"
      ],
      "metadata": {
        "id": "4mhln-maW4E3"
      },
      "execution_count": 9,
      "outputs": []
    },
    {
      "cell_type": "code",
      "source": [
        ""
      ],
      "metadata": {
        "id": "Lf7UpN_VW7vg"
      },
      "execution_count": null,
      "outputs": []
    }
  ]
}