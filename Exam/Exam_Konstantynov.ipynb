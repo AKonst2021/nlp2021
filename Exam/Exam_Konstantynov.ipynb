{
  "nbformat": 4,
  "nbformat_minor": 0,
  "metadata": {
    "colab": {
      "name": "Exam_Konstantynov.ipynb",
      "provenance": [],
      "include_colab_link": true
    },
    "kernelspec": {
      "name": "python3",
      "display_name": "Python 3"
    },
    "language_info": {
      "name": "python"
    },
    "accelerator": "GPU"
  },
  "cells": [
    {
      "cell_type": "markdown",
      "metadata": {
        "id": "view-in-github",
        "colab_type": "text"
      },
      "source": [
        "<a href=\"https://colab.research.google.com/github/AKonst2021/nlp2021/blob/main/Exam/Exam_Konstantynov.ipynb\" target=\"_parent\"><img src=\"https://colab.research.google.com/assets/colab-badge.svg\" alt=\"Open In Colab\"/></a>"
      ]
    },
    {
      "cell_type": "markdown",
      "source": [
        "Практичне завдання\n",
        "\n",
        "з дисципліни \"Методи обробки природномовної інформації\"\n",
        "\n",
        "студента групи ТШІ-21\n",
        "\n",
        "Константинова Артема Віталійовича\n",
        "\n",
        "Варіант 5"
      ],
      "metadata": {
        "id": "uLJeFc8GS4xI"
      }
    },
    {
      "cell_type": "markdown",
      "source": [
        "Завдання:\n",
        "\n",
        "Розробити Jupyter Notebook для вирішення завдання класифікації тексту\n",
        "на основі набору даних:\n",
        "[link]"
      ],
      "metadata": {
        "id": "kcMsqNxcTu2-"
      }
    },
    {
      "cell_type": "code",
      "source": [
        "import numpy as np\n",
        "import pandas as pd\n",
        "import tensorflow as tf, requests as rqst, io\n",
        "from tensorflow.keras.layers.experimental.preprocessing import TextVectorization\n",
        "from tensorflow.keras import layers\n",
        "\n",
        "rnd = np.random.randint"
      ],
      "metadata": {
        "id": "1vCQ1ViaWLD1"
      },
      "execution_count": 18,
      "outputs": []
    },
    {
      "cell_type": "markdown",
      "source": [
        "Етап 1. Завантаження та попередній аналіз даних."
      ],
      "metadata": {
        "id": "P-w5TBf4T1P_"
      }
    },
    {
      "cell_type": "code",
      "source": [
        "#create the grouped dataset based on the data from each participant"
      ],
      "metadata": {
        "id": "MbQ3K2H8T_1_"
      },
      "execution_count": null,
      "outputs": []
    },
    {
      "cell_type": "code",
      "source": [
        "!wget https://drive.google.com/drive/folders/1ygGIhh9mE06DK-RLJK6ai3uOVS0JLMSJ?usp=sharing"
      ],
      "metadata": {
        "colab": {
          "base_uri": "https://localhost:8080/"
        },
        "id": "xiBmjEb1Yibv",
        "outputId": "2d2e39e3-871e-4fb5-9f5e-d7e111d1a158"
      },
      "execution_count": 19,
      "outputs": [
        {
          "output_type": "stream",
          "name": "stdout",
          "text": [
            "--2021-12-13 08:29:23--  https://drive.google.com/drive/folders/1ygGIhh9mE06DK-RLJK6ai3uOVS0JLMSJ?usp=sharing\n",
            "Resolving drive.google.com (drive.google.com)... 142.250.103.113, 142.250.103.102, 142.250.103.139, ...\n",
            "Connecting to drive.google.com (drive.google.com)|142.250.103.113|:443... connected.\n",
            "HTTP request sent, awaiting response... 200 OK\n",
            "Length: unspecified [text/html]\n",
            "Saving to: ‘1ygGIhh9mE06DK-RLJK6ai3uOVS0JLMSJ?usp=sharing’\n",
            "\n",
            "\r          1ygGIhh9m     [<=>                 ]       0  --.-KB/s               \r1ygGIhh9mE06DK-RLJK     [ <=>                ] 220.84K  1.29MB/s    in 0.2s    \n",
            "\n",
            "2021-12-13 08:29:24 (1.29 MB/s) - ‘1ygGIhh9mE06DK-RLJK6ai3uOVS0JLMSJ?usp=sharing’ saved [226145]\n",
            "\n"
          ]
        }
      ]
    },
    {
      "cell_type": "code",
      "source": [
        "#завантажуємо датасет\n",
        "from google.colab import drive\n",
        "drive.mount('/content/drive')"
      ],
      "metadata": {
        "id": "5wUnT1YjY55t",
        "colab": {
          "base_uri": "https://localhost:8080/"
        },
        "outputId": "aad1be82-e837-463e-f243-16035dc2aba3"
      },
      "execution_count": 27,
      "outputs": [
        {
          "output_type": "stream",
          "name": "stdout",
          "text": [
            "Mounted at /content/drive\n"
          ]
        }
      ]
    },
    {
      "cell_type": "code",
      "source": [
        "data_file = open(\"/content/drive/MyDrive/NLP/data.csv\")\n",
        "data_sentences = data_file.read().split('.')[:-1]"
      ],
      "metadata": {
        "id": "4mhln-maW4E3"
      },
      "execution_count": 43,
      "outputs": []
    },
    {
      "cell_type": "code",
      "source": [
        "#Створюємо новий фрейм\n",
        "new_df = []\n",
        "\n",
        "#попередньо класифікаємо на real:1 та fake:0\n",
        "for new in data_sentences:\n",
        "  new_df.append({'Sentence':new, 'Label':'REAL'})\n",
        "\n",
        "for new in data_sentences:\n",
        "  new_df.append({'Sentence':new, 'Label':'FAKE'})\n",
        "\n",
        "new_df = pd.DataFrame(data=new_df, columns=['Sentence', 'Label'])\n",
        "\n",
        "new_df['Target'] = new_df['Label']\n",
        "new_df.replace({'Target':{'REAL':1, 'FAKE':0}}, inplace=True)\n",
        "new_df"
      ],
      "metadata": {
        "id": "Lf7UpN_VW7vg",
        "colab": {
          "base_uri": "https://localhost:8080/",
          "height": 424
        },
        "outputId": "1ead27ac-aeb2-40f2-aa78-0f50d84ed59a"
      },
      "execution_count": 67,
      "outputs": [
        {
          "output_type": "execute_result",
          "data": {
            "text/html": [
              "<div>\n",
              "<style scoped>\n",
              "    .dataframe tbody tr th:only-of-type {\n",
              "        vertical-align: middle;\n",
              "    }\n",
              "\n",
              "    .dataframe tbody tr th {\n",
              "        vertical-align: top;\n",
              "    }\n",
              "\n",
              "    .dataframe thead th {\n",
              "        text-align: right;\n",
              "    }\n",
              "</style>\n",
              "<table border=\"1\" class=\"dataframe\">\n",
              "  <thead>\n",
              "    <tr style=\"text-align: right;\">\n",
              "      <th></th>\n",
              "      <th>Sentence</th>\n",
              "      <th>Label</th>\n",
              "      <th>Target</th>\n",
              "    </tr>\n",
              "  </thead>\n",
              "  <tbody>\n",
              "    <tr>\n",
              "      <th>0</th>\n",
              "      <td>,title,text,label\\n8476,You Can Smell Hillary’...</td>\n",
              "      <td>REAL</td>\n",
              "      <td>1</td>\n",
              "    </tr>\n",
              "    <tr>\n",
              "      <th>1</th>\n",
              "      <td>\\nIn the final stretch of the election, Hilla...</td>\n",
              "      <td>REAL</td>\n",
              "      <td>1</td>\n",
              "    </tr>\n",
              "    <tr>\n",
              "      <th>2</th>\n",
              "      <td>\\nThe word “unprecedented” has been thrown ar...</td>\n",
              "      <td>REAL</td>\n",
              "      <td>1</td>\n",
              "    </tr>\n",
              "    <tr>\n",
              "      <th>3</th>\n",
              "      <td>But it’s still unprecedented for the nominee ...</td>\n",
              "      <td>REAL</td>\n",
              "      <td>1</td>\n",
              "    </tr>\n",
              "    <tr>\n",
              "      <th>4</th>\n",
              "      <td>\\nBut that’s exactly what Hillary and her peo...</td>\n",
              "      <td>REAL</td>\n",
              "      <td>1</td>\n",
              "    </tr>\n",
              "    <tr>\n",
              "      <th>...</th>\n",
              "      <td>...</td>\n",
              "      <td>...</td>\n",
              "      <td>...</td>\n",
              "    </tr>\n",
              "    <tr>\n",
              "      <th>506093</th>\n",
              "      <td>Those aren't Jeb Bush's people to begin with</td>\n",
              "      <td>FAKE</td>\n",
              "      <td>0</td>\n",
              "    </tr>\n",
              "    <tr>\n",
              "      <th>506094</th>\n",
              "      <td>He's trying to appeal to the other 60 percent...</td>\n",
              "      <td>FAKE</td>\n",
              "      <td>0</td>\n",
              "    </tr>\n",
              "    <tr>\n",
              "      <th>506095</th>\n",
              "      <td>\"\"\\n\\nO'Connell agreed</td>\n",
              "      <td>FAKE</td>\n",
              "      <td>0</td>\n",
              "    </tr>\n",
              "    <tr>\n",
              "      <th>506096</th>\n",
              "      <td>He pointed out that even if this new approach...</td>\n",
              "      <td>FAKE</td>\n",
              "      <td>0</td>\n",
              "    </tr>\n",
              "    <tr>\n",
              "      <th>506097</th>\n",
              "      <td>\\n\\n\"\"In a lot of elections, being the studiou...</td>\n",
              "      <td>FAKE</td>\n",
              "      <td>0</td>\n",
              "    </tr>\n",
              "  </tbody>\n",
              "</table>\n",
              "<p>506098 rows × 3 columns</p>\n",
              "</div>"
            ],
            "text/plain": [
              "                                                 Sentence Label  Target\n",
              "0       ,title,text,label\\n8476,You Can Smell Hillary’...  REAL       1\n",
              "1        \\nIn the final stretch of the election, Hilla...  REAL       1\n",
              "2        \\nThe word “unprecedented” has been thrown ar...  REAL       1\n",
              "3        But it’s still unprecedented for the nominee ...  REAL       1\n",
              "4        \\nBut that’s exactly what Hillary and her peo...  REAL       1\n",
              "...                                                   ...   ...     ...\n",
              "506093       Those aren't Jeb Bush's people to begin with  FAKE       0\n",
              "506094   He's trying to appeal to the other 60 percent...  FAKE       0\n",
              "506095                             \"\"\\n\\nO'Connell agreed  FAKE       0\n",
              "506096   He pointed out that even if this new approach...  FAKE       0\n",
              "506097  \\n\\n\"\"In a lot of elections, being the studiou...  FAKE       0\n",
              "\n",
              "[506098 rows x 3 columns]"
            ]
          },
          "metadata": {},
          "execution_count": 67
        }
      ]
    },
    {
      "cell_type": "code",
      "source": [
        "# векторизація тексту Векторизація тексту - це уявлення тексту як серії векторів, які можуть виражати семантику тексту\n",
        "max_tokens = 10000\n",
        "\n",
        "sentences = data_sentences\n",
        "tokens_count = 0\n",
        "for new in sentences:\n",
        "  tokens_count+=len(new.split())\n",
        "avg_tokens = round(tokens_count/len(sentences))"
      ],
      "metadata": {
        "id": "CvUVSfz98SbO"
      },
      "execution_count": 68,
      "outputs": []
    },
    {
      "cell_type": "code",
      "source": [
        "#токенізація сегментації тексту, що є послідовністю символів, таких як букви, пробіли, знаки пунктуації та цифри, на слова і фрази\n",
        "# Вбудовування слів — це засвоєне уявлення для тексту, де слова, що мають однакове значення, мають подібне представлення.\n",
        "text_vectorizer = TextVectorization(max_tokens=max_tokens, \n",
        "                                    standardize=\"lower_and_strip_punctuation\", \n",
        "                                    split=\"whitespace\", \n",
        "                                    ngrams=None, \n",
        "                                    output_mode=\"int\",\n",
        "                                    output_sequence_length=avg_tokens, \n",
        "                                    pad_to_max_tokens=True)\n",
        "\n",
        "text_vectorizer.adapt(new_df['Sentence'])\n",
        "\n",
        "text_vectorizer(new_df['Sentence'])"
      ],
      "metadata": {
        "colab": {
          "base_uri": "https://localhost:8080/"
        },
        "id": "OwzimVUJ83A2",
        "outputId": "2f1902ee-264c-4fae-bc33-3f458540492c"
      },
      "execution_count": 69,
      "outputs": [
        {
          "output_type": "execute_result",
          "data": {
            "text/plain": [
              "<tf.Tensor: shape=(506098, 20), dtype=int64, numpy=\n",
              "array([[   1,    1,   64, ...,   57,  244, 2576],\n",
              "       [   7,    2,  763, ...,    0,    0,    0],\n",
              "       [   2,  996,    1, ...,    0,    0,    0],\n",
              "       ...,\n",
              "       [   1, 1398,    0, ...,    0,    0,    0],\n",
              "       [  15, 1382,   56, ...,    0,    0,    0],\n",
              "       [   7,    6,  315, ...,    1,    2, 7924]])>"
            ]
          },
          "metadata": {},
          "execution_count": 69
        }
      ]
    },
    {
      "cell_type": "code",
      "source": [
        "embedding = layers.Embedding(input_dim=max_tokens, # встановлюємо форму введення\n",
        "                             output_dim=128, # встановлюємо розмір вбудовуваного вектору \n",
        "                             embeddings_initializer=\"uniform\", # ініціалізовуємо вбудовування\n",
        "                             input_length=avg_tokens) # встановлювана довжина\n",
        "\n",
        "embedding(text_vectorizer(new_df['Sentence']))"
      ],
      "metadata": {
        "colab": {
          "base_uri": "https://localhost:8080/"
        },
        "id": "FsAsd9Jb8_8b",
        "outputId": "bab47ed3-9709-4481-b818-14c0e4655ca7"
      },
      "execution_count": 70,
      "outputs": [
        {
          "output_type": "execute_result",
          "data": {
            "text/plain": [
              "<tf.Tensor: shape=(506098, 20, 128), dtype=float32, numpy=\n",
              "array([[[-0.04027963,  0.03049413, -0.02688242, ..., -0.01163316,\n",
              "         -0.04918681, -0.00197896],\n",
              "        [-0.04027963,  0.03049413, -0.02688242, ..., -0.01163316,\n",
              "         -0.04918681, -0.00197896],\n",
              "        [ 0.01919878, -0.01921125,  0.01477207, ...,  0.00080711,\n",
              "          0.03182292,  0.04635385],\n",
              "        ...,\n",
              "        [ 0.0397974 , -0.04884326, -0.03566861, ..., -0.0315243 ,\n",
              "          0.04467866, -0.01481025],\n",
              "        [ 0.01907578,  0.00651969, -0.00737723, ...,  0.02197366,\n",
              "          0.03381652,  0.02662699],\n",
              "        [-0.00426179, -0.00820217, -0.00339188, ..., -0.00394834,\n",
              "         -0.00168412,  0.00298517]],\n",
              "\n",
              "       [[ 0.02963964, -0.0104552 , -0.01239705, ...,  0.02225998,\n",
              "          0.0161013 ,  0.01787629],\n",
              "        [ 0.02376766,  0.03035039,  0.01386983, ...,  0.01934258,\n",
              "         -0.04118548, -0.04786894],\n",
              "        [ 0.00440338,  0.00040507, -0.03003628, ..., -0.00488923,\n",
              "          0.00509734, -0.02167777],\n",
              "        ...,\n",
              "        [-0.00697364, -0.03760241,  0.04366157, ..., -0.04701327,\n",
              "         -0.01812279, -0.02432575],\n",
              "        [-0.00697364, -0.03760241,  0.04366157, ..., -0.04701327,\n",
              "         -0.01812279, -0.02432575],\n",
              "        [-0.00697364, -0.03760241,  0.04366157, ..., -0.04701327,\n",
              "         -0.01812279, -0.02432575]],\n",
              "\n",
              "       [[ 0.02376766,  0.03035039,  0.01386983, ...,  0.01934258,\n",
              "         -0.04118548, -0.04786894],\n",
              "        [ 0.01322334,  0.01632163,  0.04101671, ...,  0.0115605 ,\n",
              "          0.04924263,  0.04548171],\n",
              "        [-0.04027963,  0.03049413, -0.02688242, ..., -0.01163316,\n",
              "         -0.04918681, -0.00197896],\n",
              "        ...,\n",
              "        [-0.00697364, -0.03760241,  0.04366157, ..., -0.04701327,\n",
              "         -0.01812279, -0.02432575],\n",
              "        [-0.00697364, -0.03760241,  0.04366157, ..., -0.04701327,\n",
              "         -0.01812279, -0.02432575],\n",
              "        [-0.00697364, -0.03760241,  0.04366157, ..., -0.04701327,\n",
              "         -0.01812279, -0.02432575]],\n",
              "\n",
              "       ...,\n",
              "\n",
              "       [[-0.04027963,  0.03049413, -0.02688242, ..., -0.01163316,\n",
              "         -0.04918681, -0.00197896],\n",
              "        [-0.04450672,  0.04806377, -0.00486539, ...,  0.01959374,\n",
              "          0.0032735 ,  0.02745632],\n",
              "        [-0.00697364, -0.03760241,  0.04366157, ..., -0.04701327,\n",
              "         -0.01812279, -0.02432575],\n",
              "        ...,\n",
              "        [-0.00697364, -0.03760241,  0.04366157, ..., -0.04701327,\n",
              "         -0.01812279, -0.02432575],\n",
              "        [-0.00697364, -0.03760241,  0.04366157, ..., -0.04701327,\n",
              "         -0.01812279, -0.02432575],\n",
              "        [-0.00697364, -0.03760241,  0.04366157, ..., -0.04701327,\n",
              "         -0.01812279, -0.02432575]],\n",
              "\n",
              "       [[-0.03710731,  0.02688427,  0.04042539, ..., -0.02272841,\n",
              "         -0.01170384, -0.02483872],\n",
              "        [ 0.00998747,  0.01443065,  0.01911822, ...,  0.02775446,\n",
              "         -0.0368151 , -0.03561364],\n",
              "        [-0.02187122,  0.03074929,  0.03134536, ..., -0.04442935,\n",
              "         -0.03624216, -0.03396755],\n",
              "        ...,\n",
              "        [-0.00697364, -0.03760241,  0.04366157, ..., -0.04701327,\n",
              "         -0.01812279, -0.02432575],\n",
              "        [-0.00697364, -0.03760241,  0.04366157, ..., -0.04701327,\n",
              "         -0.01812279, -0.02432575],\n",
              "        [-0.00697364, -0.03760241,  0.04366157, ..., -0.04701327,\n",
              "         -0.01812279, -0.02432575]],\n",
              "\n",
              "       [[ 0.02963964, -0.0104552 , -0.01239705, ...,  0.02225998,\n",
              "          0.0161013 ,  0.01787629],\n",
              "        [-0.01474516,  0.02792562, -0.00269644, ...,  0.02005256,\n",
              "          0.02062932,  0.03027793],\n",
              "        [ 0.03256415,  0.02073889, -0.04803826, ...,  0.00912546,\n",
              "         -0.00626726, -0.03446373],\n",
              "        ...,\n",
              "        [-0.04027963,  0.03049413, -0.02688242, ..., -0.01163316,\n",
              "         -0.04918681, -0.00197896],\n",
              "        [ 0.02376766,  0.03035039,  0.01386983, ...,  0.01934258,\n",
              "         -0.04118548, -0.04786894],\n",
              "        [ 0.01209813, -0.02940649, -0.00508238, ..., -0.03435608,\n",
              "          0.02573372, -0.03692488]]], dtype=float32)>"
            ]
          },
          "metadata": {},
          "execution_count": 70
        }
      ]
    },
    {
      "cell_type": "markdown",
      "source": [
        "2. Створення тренувального та тестувального наборів даних."
      ],
      "metadata": {
        "id": "DBhK3BJaHrSj"
      }
    },
    {
      "cell_type": "code",
      "source": [
        "# Створюємо тестову та тренувальну вибірки\n",
        "from sklearn.model_selection import train_test_split\n",
        "train_split, test_split = train_test_split(new_df, train_size=0.8, test_size=0.2)\n",
        "train_split"
      ],
      "metadata": {
        "colab": {
          "base_uri": "https://localhost:8080/",
          "height": 424
        },
        "id": "td-E-kan9Eyj",
        "outputId": "15be7f31-5789-40e3-9ccd-9754a4f5e568"
      },
      "execution_count": 71,
      "outputs": [
        {
          "output_type": "execute_result",
          "data": {
            "text/html": [
              "<div>\n",
              "<style scoped>\n",
              "    .dataframe tbody tr th:only-of-type {\n",
              "        vertical-align: middle;\n",
              "    }\n",
              "\n",
              "    .dataframe tbody tr th {\n",
              "        vertical-align: top;\n",
              "    }\n",
              "\n",
              "    .dataframe thead th {\n",
              "        text-align: right;\n",
              "    }\n",
              "</style>\n",
              "<table border=\"1\" class=\"dataframe\">\n",
              "  <thead>\n",
              "    <tr style=\"text-align: right;\">\n",
              "      <th></th>\n",
              "      <th>Sentence</th>\n",
              "      <th>Label</th>\n",
              "      <th>Target</th>\n",
              "    </tr>\n",
              "  </thead>\n",
              "  <tbody>\n",
              "    <tr>\n",
              "      <th>18432</th>\n",
              "      <td>But even if they did, it does not appear to h...</td>\n",
              "      <td>REAL</td>\n",
              "      <td>1</td>\n",
              "    </tr>\n",
              "    <tr>\n",
              "      <th>491789</th>\n",
              "      <td>They lied about the origins of the conflict</td>\n",
              "      <td>FAKE</td>\n",
              "      <td>0</td>\n",
              "    </tr>\n",
              "    <tr>\n",
              "      <th>317575</th>\n",
              "      <td>” The other side says, “I know how bad you thi...</td>\n",
              "      <td>FAKE</td>\n",
              "      <td>0</td>\n",
              "    </tr>\n",
              "    <tr>\n",
              "      <th>24557</th>\n",
              "      <td>The wars of regime change were, with few exce...</td>\n",
              "      <td>REAL</td>\n",
              "      <td>1</td>\n",
              "    </tr>\n",
              "    <tr>\n",
              "      <th>233241</th>\n",
              "      <td>\\n\\n-- A D</td>\n",
              "      <td>REAL</td>\n",
              "      <td>1</td>\n",
              "    </tr>\n",
              "    <tr>\n",
              "      <th>...</th>\n",
              "      <td>...</td>\n",
              "      <td>...</td>\n",
              "      <td>...</td>\n",
              "    </tr>\n",
              "    <tr>\n",
              "      <th>213789</th>\n",
              "      <td>Yet the same strength in debating, self-aware...</td>\n",
              "      <td>REAL</td>\n",
              "      <td>1</td>\n",
              "    </tr>\n",
              "    <tr>\n",
              "      <th>21272</th>\n",
              "      <td>\\nThe couple in question, Faisal and Nazia Al...</td>\n",
              "      <td>REAL</td>\n",
              "      <td>1</td>\n",
              "    </tr>\n",
              "    <tr>\n",
              "      <th>487730</th>\n",
              "      <td>\\n\\n\"\"Some say Abraham Lincoln might not have ...</td>\n",
              "      <td>FAKE</td>\n",
              "      <td>0</td>\n",
              "    </tr>\n",
              "    <tr>\n",
              "      <th>37569</th>\n",
              "      <td>Among them: Fisher v</td>\n",
              "      <td>REAL</td>\n",
              "      <td>1</td>\n",
              "    </tr>\n",
              "    <tr>\n",
              "      <th>467760</th>\n",
              "      <td>He's a man of his word</td>\n",
              "      <td>FAKE</td>\n",
              "      <td>0</td>\n",
              "    </tr>\n",
              "  </tbody>\n",
              "</table>\n",
              "<p>404878 rows × 3 columns</p>\n",
              "</div>"
            ],
            "text/plain": [
              "                                                 Sentence Label  Target\n",
              "18432    But even if they did, it does not appear to h...  REAL       1\n",
              "491789        They lied about the origins of the conflict  FAKE       0\n",
              "317575  ” The other side says, “I know how bad you thi...  FAKE       0\n",
              "24557    The wars of regime change were, with few exce...  REAL       1\n",
              "233241                                         \\n\\n-- A D  REAL       1\n",
              "...                                                   ...   ...     ...\n",
              "213789   Yet the same strength in debating, self-aware...  REAL       1\n",
              "21272    \\nThe couple in question, Faisal and Nazia Al...  REAL       1\n",
              "487730  \\n\\n\"\"Some say Abraham Lincoln might not have ...  FAKE       0\n",
              "37569                                Among them: Fisher v  REAL       1\n",
              "467760                             He's a man of his word  FAKE       0\n",
              "\n",
              "[404878 rows x 3 columns]"
            ]
          },
          "metadata": {},
          "execution_count": 71
        }
      ]
    },
    {
      "cell_type": "code",
      "source": [
        "#імпортуємо бібліотеки для класифікації\n",
        "from sklearn.metrics import accuracy_score, precision_recall_fscore_support\n",
        "\n",
        "def calculate_results(y_true, y_pred):\n",
        "  \"\"\"\n",
        "  Calculates model accuracy, precision, recall and f1 score of a binary classification model.\n",
        "\n",
        "  Args:\n",
        "  -----\n",
        "  y_true = true labels in the form of a 1D array\n",
        "  y_pred = predicted labels in the form of a 1D array\n",
        "\n",
        "  Returns a dictionary of accuracy, precision, recall, f1-score.\n",
        "  \"\"\"\n",
        "  # Calculate model accuracy\n",
        "  model_accuracy = accuracy_score(y_true, y_pred) * 100\n",
        "  # Calculate model precision, recall and f1 score using \"weighted\" average\n",
        "  model_precision, model_recall, model_f1, _ = precision_recall_fscore_support(y_true, y_pred, average=\"weighted\")\n",
        "  model_results = {\"accuracy\": model_accuracy,\n",
        "                  \"precision\": model_precision,\n",
        "                  \"recall\": model_recall,\n",
        "                  \"f1\": model_f1}\n",
        "  return model_results"
      ],
      "metadata": {
        "id": "VeM_heI89QmR"
      },
      "execution_count": 72,
      "outputs": []
    },
    {
      "cell_type": "markdown",
      "source": [
        "3. Попередня оцінка точності моделі за допомогою методу Naive Bayes."
      ],
      "metadata": {
        "id": "sD-7sG_2HeYz"
      }
    },
    {
      "cell_type": "code",
      "source": [
        "#імпортуємо бібліотекуNaive Bayes Model\n",
        "from sklearn.feature_extraction.text import TfidfVectorizer\n",
        "from sklearn.naive_bayes import MultinomialNB\n",
        "from sklearn.pipeline import Pipeline\n",
        "\n",
        "# Створюємо токенізацію та моделюємо\n",
        "model_0 = Pipeline([\n",
        "                    (\"tfidf\", TfidfVectorizer()), # convert words to numbers using tfidf\n",
        "                    (\"clf\", MultinomialNB()) # model the text\n",
        "])\n",
        "\n",
        "# Fit the pipeline to the training data\n",
        "model_0.fit(train_split['Sentence'], train_split['Target'])\n",
        "baseline_score = model_0.score(test_split['Sentence'], test_split['Target'])\n",
        "print(f\"Baseline model accuracy is: {baseline_score*100:.2f}%\")"
      ],
      "metadata": {
        "colab": {
          "base_uri": "https://localhost:8080/"
        },
        "id": "hEEJDLsu9Z_r",
        "outputId": "ea51aa7a-0481-48eb-ed2f-dd769020bb09"
      },
      "execution_count": 73,
      "outputs": [
        {
          "output_type": "stream",
          "name": "stdout",
          "text": [
            "Baseline model accuracy is: 31.47%\n"
          ]
        }
      ]
    },
    {
      "cell_type": "markdown",
      "source": [
        "4. Вирішення задачі класифікації за допомогою методу bidirectional GRU"
      ],
      "metadata": {
        "id": "sAc-R-xHIH3A"
      }
    },
    {
      "cell_type": "code",
      "source": [
        "#bidirectional GRU\n",
        "from tensorflow.keras import layers\n",
        "inputs = layers.Input(shape=(1,), dtype=\"string\")\n",
        "x = text_vectorizer(inputs)\n",
        "x = embedding(x)\n",
        "x = layers.Bidirectional(layers.GRU(64))(x) # bidirectional працює в обидві сторони, тому має подвоєні параметри, ніж звичайний шар LSTM\n",
        "outputs = layers.Dense(1, activation=\"sigmoid\")(x)\n",
        "model_bi_gru = tf.keras.Model(inputs, outputs, name=\"model_Bi_gru\")"
      ],
      "metadata": {
        "id": "qPDY3CFN9s52"
      },
      "execution_count": 74,
      "outputs": []
    },
    {
      "cell_type": "code",
      "source": [
        "# Компілюємо модель bidirectional GRU\n",
        "model_bi_gru.compile(loss=\"binary_crossentropy\",\n",
        "                optimizer=tf.keras.optimizers.Adam(),\n",
        "                metrics=[\"accuracy\"])\n",
        "model_bi_gru.summary()"
      ],
      "metadata": {
        "colab": {
          "base_uri": "https://localhost:8080/"
        },
        "id": "P0XINiW69v-S",
        "outputId": "a29f99eb-ab7d-4a7c-dc29-ea2c4989c90f"
      },
      "execution_count": 75,
      "outputs": [
        {
          "output_type": "stream",
          "name": "stdout",
          "text": [
            "Model: \"model_Bi_gru\"\n",
            "_________________________________________________________________\n",
            " Layer (type)                Output Shape              Param #   \n",
            "=================================================================\n",
            " input_4 (InputLayer)        [(None, 1)]               0         \n",
            "                                                                 \n",
            " text_vectorization_1 (TextV  (None, 20)               0         \n",
            " ectorization)                                                   \n",
            "                                                                 \n",
            " embedding_1 (Embedding)     (None, 20, 128)           1280000   \n",
            "                                                                 \n",
            " bidirectional_1 (Bidirectio  (None, 128)              74496     \n",
            " nal)                                                            \n",
            "                                                                 \n",
            " dense_1 (Dense)             (None, 1)                 129       \n",
            "                                                                 \n",
            "=================================================================\n",
            "Total params: 1,354,625\n",
            "Trainable params: 1,354,625\n",
            "Non-trainable params: 0\n",
            "_________________________________________________________________\n"
          ]
        }
      ]
    },
    {
      "cell_type": "markdown",
      "source": [
        "5. Графічне відображення тренування моделі."
      ],
      "metadata": {
        "id": "iwAt6dXOIpJQ"
      }
    },
    {
      "cell_type": "code",
      "source": [
        "model_bi_gru_history = model_bi_gru.fit(train_split['Sentence'],\n",
        "                              train_split['Target'],\n",
        "                              epochs=9,\n",
        "                              validation_data=(test_split['Sentence'], test_split['Target']))"
      ],
      "metadata": {
        "colab": {
          "base_uri": "https://localhost:8080/"
        },
        "id": "HuLAkgmp9yUF",
        "outputId": "96a86655-19b4-4f01-b029-94e0ca5d28b8"
      },
      "execution_count": 76,
      "outputs": [
        {
          "output_type": "stream",
          "name": "stdout",
          "text": [
            "Epoch 1/9\n",
            "12653/12653 [==============================] - 260s 20ms/step - loss: 0.6934 - accuracy: 0.4990 - val_loss: 0.6933 - val_accuracy: 0.4996\n",
            "Epoch 2/9\n",
            "12653/12653 [==============================] - 250s 20ms/step - loss: 0.6934 - accuracy: 0.5004 - val_loss: 0.6938 - val_accuracy: 0.4984\n",
            "Epoch 3/9\n",
            "12653/12653 [==============================] - 250s 20ms/step - loss: 0.6934 - accuracy: 0.5001 - val_loss: 0.6934 - val_accuracy: 0.4988\n",
            "Epoch 4/9\n",
            "12653/12653 [==============================] - 251s 20ms/step - loss: 0.6935 - accuracy: 0.4993 - val_loss: 0.6934 - val_accuracy: 0.4965\n",
            "Epoch 5/9\n",
            "12653/12653 [==============================] - 251s 20ms/step - loss: 0.6935 - accuracy: 0.4979 - val_loss: 0.6936 - val_accuracy: 0.4957\n",
            "Epoch 6/9\n",
            "12653/12653 [==============================] - 253s 20ms/step - loss: 0.6935 - accuracy: 0.5002 - val_loss: 0.6933 - val_accuracy: 0.5001\n",
            "Epoch 7/9\n",
            "12653/12653 [==============================] - 253s 20ms/step - loss: 0.6935 - accuracy: 0.4998 - val_loss: 0.6933 - val_accuracy: 0.5014\n",
            "Epoch 8/9\n",
            "12653/12653 [==============================] - 253s 20ms/step - loss: 0.6935 - accuracy: 0.4997 - val_loss: 0.6939 - val_accuracy: 0.4954\n",
            "Epoch 9/9\n",
            "12653/12653 [==============================] - 254s 20ms/step - loss: 0.6936 - accuracy: 0.4979 - val_loss: 0.6933 - val_accuracy: 0.5029\n"
          ]
        }
      ]
    },
    {
      "cell_type": "markdown",
      "source": [
        "6. Порівняння результатів, отриманих у п.п. 3,4"
      ],
      "metadata": {
        "id": "q_u--n73Jcgb"
      }
    },
    {
      "cell_type": "code",
      "source": [
        "model_bi_gru_pred_probs = model_bi_gru.predict(test_split['Sentence'])\n",
        "model_bi_gru_preds = tf.squeeze(tf.round(model_bi_gru_pred_probs))\n",
        "calculate_results(y_true=test_split['Target'], y_pred=model_bi_gru_preds)"
      ],
      "metadata": {
        "colab": {
          "base_uri": "https://localhost:8080/"
        },
        "id": "EysTPaKvI_sp",
        "outputId": "318cba20-3c16-4629-f2e9-2eccdbbb43d8"
      },
      "execution_count": 79,
      "outputs": [
        {
          "output_type": "execute_result",
          "data": {
            "text/plain": [
              "{'accuracy': 50.29440821971942,\n",
              " 'f1': 0.43465565815065754,\n",
              " 'precision': 0.5036843194597989,\n",
              " 'recall': 0.5029440821971942}"
            ]
          },
          "metadata": {},
          "execution_count": 79
        }
      ]
    },
    {
      "cell_type": "code",
      "source": [
        "#compare model effectiveness\n",
        "calculate_results(test_split['Target'], model_0.predict(test_split['Sentence']))"
      ],
      "metadata": {
        "colab": {
          "base_uri": "https://localhost:8080/"
        },
        "id": "ll7A1iz1M_VK",
        "outputId": "06487c43-485c-42bd-c8fd-b18594f5ddfb"
      },
      "execution_count": 78,
      "outputs": [
        {
          "output_type": "execute_result",
          "data": {
            "text/plain": [
              "{'accuracy': 31.466113416320884,\n",
              " 'f1': 0.31352159179622124,\n",
              " 'precision': 0.3135020023554881,\n",
              " 'recall': 0.31466113416320884}"
            ]
          },
          "metadata": {},
          "execution_count": 78
        }
      ]
    },
    {
      "cell_type": "markdown",
      "source": [
        "**Висновок**\n",
        "\n",
        "У даному завдані було виконано:\n",
        "1. Завантаження та попередній аналіз даних.\n",
        "2. Створення тренувального та тестувального наборів даних.\n",
        "3. Попередню оцінку точності моделі за допомогою методу Naive Bayes.\n",
        "4. Вирішення задачі класифікації за допомогою методу Bidirectional GRU.\n",
        "5. Графічне відображення тренування моделі.\n",
        "6. Порівняння результатів, отриманих у п.п. 3,4"
      ],
      "metadata": {
        "id": "3sXX-yszJhiQ"
      }
    }
  ]
}